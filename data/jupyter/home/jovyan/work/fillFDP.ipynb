{
 "cells": [
  {
   "cell_type": "markdown",
   "id": "4e35773d-deff-461c-a1ae-1926e92afd1a",
   "metadata": {},
   "source": [
    "# Fill the FDP with relevant data for PhenoTips\n",
    "\n",
    "\n",
    "## FDP <-> PhenoTips Field mapping for type **Catalog**\n",
    "| FDP | ENVIRONMENT | Note|\n",
    "|----------|:-------------|:---------|\n",
    "|fdp-catalog-parameter | CATALOG_\\<FDP-CATALOG-PARAMETER\\> | ALLCAPS |\n",
    "|ispartof|fdpclient.publicurl| |\n",
    "\n",
    "\n",
    "## FDP <-> PhenoTips Field mapping for type **Dataset**\n",
    "| FDP | ENVIRONMENT | Note|\n",
    "|----------|:-------------|:---------|\n",
    "|fdp-catalog-parameter | DATASET_\\<FDP-CATALOG-PARAMETER\\> | ALLCAPS |\n",
    "|themes_list | DATASET_THEMES | **;** separated list of themes |\n",
    "|KEYWORDS | DATASET_KEYWORDS | **;** separated list of keywords |\n",
    "\n",
    "## FDP <-> PhenoTips Field mapping for type **Distribution**\n",
    "| FDP | ENVIRONMENT | Note|\n",
    "|----------|:-------------|:---------|\n",
    "|fdp-catalog-parameter | DISTRIBUTION_\\<FDP-CATALOG-PARAMETER-ALLCAPS\\> | ALLCAPS |\n",
    "\n",
    "\n",
    " - *FDP -> FAIR Data Point*\n",
    "\n"
   ]
  },
  {
   "cell_type": "markdown",
   "id": "e100698b-5895-4a31-99dd-09937d359f24",
   "metadata": {},
   "source": [
    "## API Libraraies \n",
    "\n",
    "### FDP our own\n",
    "[Code](https://github.com/bibbox/fdpAPIconnector.py)\n",
    "\n",
    "[PyPI](https://pypi.org/project/fdpAPIconnector/)"
   ]
  },
  {
   "cell_type": "code",
   "execution_count": 1,
   "id": "e6144f24-0728-40ee-b0a1-7d59f74c61b5",
   "metadata": {},
   "outputs": [
    {
     "name": "stdout",
     "output_type": "stream",
     "text": [
      "Collecting fdpAPIconnector\n",
      "  Downloading fdpAPIconnector-0.0.4-py3-none-any.whl (9.2 kB)\n",
      "Collecting rdflib\n",
      "  Downloading rdflib-6.1.1-py3-none-any.whl (482 kB)\n",
      "\u001b[2K     \u001b[90m━━━━━━━━━━━━━━━━━━━━━━━━━━━━━━━━━━━━━━\u001b[0m \u001b[32m482.8/482.8 KB\u001b[0m \u001b[31m23.0 MB/s\u001b[0m eta \u001b[36m0:00:00\u001b[0m\n",
      "\u001b[?25hRequirement already satisfied: requests in /opt/conda/lib/python3.9/site-packages (from fdpAPIconnector) (2.27.1)\n",
      "Collecting isodate\n",
      "  Downloading isodate-0.6.1-py2.py3-none-any.whl (41 kB)\n",
      "\u001b[2K     \u001b[90m━━━━━━━━━━━━━━━━━━━━━━━━━━━━━━━━━━━━━━━━\u001b[0m \u001b[32m41.7/41.7 KB\u001b[0m \u001b[31m17.6 MB/s\u001b[0m eta \u001b[36m0:00:00\u001b[0m\n",
      "\u001b[?25hRequirement already satisfied: setuptools in /opt/conda/lib/python3.9/site-packages (from rdflib->fdpAPIconnector) (62.1.0)\n",
      "Requirement already satisfied: pyparsing in /opt/conda/lib/python3.9/site-packages (from rdflib->fdpAPIconnector) (3.0.8)\n",
      "Requirement already satisfied: urllib3<1.27,>=1.21.1 in /opt/conda/lib/python3.9/site-packages (from requests->fdpAPIconnector) (1.26.9)\n",
      "Requirement already satisfied: idna<4,>=2.5 in /opt/conda/lib/python3.9/site-packages (from requests->fdpAPIconnector) (3.3)\n",
      "Requirement already satisfied: charset-normalizer~=2.0.0 in /opt/conda/lib/python3.9/site-packages (from requests->fdpAPIconnector) (2.0.12)\n",
      "Requirement already satisfied: certifi>=2017.4.17 in /opt/conda/lib/python3.9/site-packages (from requests->fdpAPIconnector) (2021.10.8)\n",
      "Requirement already satisfied: six in /opt/conda/lib/python3.9/site-packages (from isodate->rdflib->fdpAPIconnector) (1.16.0)\n",
      "Installing collected packages: isodate, rdflib, fdpAPIconnector\n",
      "Successfully installed fdpAPIconnector-0.0.4 isodate-0.6.1 rdflib-6.1.1\n",
      "Note: you may need to restart the kernel to use updated packages.\n"
     ]
    }
   ],
   "source": [
    "pip install fdpAPIconnector"
   ]
  },
  {
   "cell_type": "code",
   "execution_count": 2,
   "id": "2a57b988-a4b5-41fe-b078-9ec85ae9e843",
   "metadata": {},
   "outputs": [],
   "source": [
    "#pip install --index-url https://test.pypi.org/simple/ --no-deps fdpAPIconnector"
   ]
  },
  {
   "cell_type": "code",
   "execution_count": 3,
   "id": "a5ab664b-84e2-495f-9aeb-9d52342e7aec",
   "metadata": {},
   "outputs": [],
   "source": [
    "#import git\n",
    "#git.Git(\"phenotips_python_client\").clone(\"https://github.com/phenotips/phenotips_python_client.git\")\n"
   ]
  },
  {
   "cell_type": "code",
   "execution_count": 4,
   "id": "715a76b0-3f16-4f8e-9e57-c98ad002a402",
   "metadata": {},
   "outputs": [],
   "source": [
    "#from phenotips_python_client.rest import PhenotipsClient\n",
    "from fdpAPIconnector.fdpclient import FDPClient\n",
    "from pprint import pprint\n",
    "import datetime\n",
    "import json\n",
    "import os\n",
    "import logging"
   ]
  },
  {
   "cell_type": "markdown",
   "id": "63d51ac2-c0c2-4d07-8a12-68e5cbe60eaf",
   "metadata": {},
   "source": [
    "## Get Environment variables"
   ]
  },
  {
   "cell_type": "code",
   "execution_count": 5,
   "id": "7cd405bd-cfdb-4116-aa45-4b757f6dea86",
   "metadata": {},
   "outputs": [],
   "source": [
    "test=False\n",
    "if test:\n",
    "    os.environ['FDP_BASEURL']=\"http://bibbox-phenotips-fair-fdp-client:80\"\n",
    "    os.environ['FDP_PUBLICURL']=\"http://localhost:8080\"\n",
    "    os.environ['CATALOG_TITLE']=\"Main Phenotips Catalog\"\n",
    "    os.environ['CATALOG_VERSION']=\"1.2.3\"\n",
    "    os.environ['CATALOG_PUBLISHERNAME']=\"Mr Catalog\"\n",
    "    os.environ['CATALOG_DESCRIPTION']=\"Main Phenotips Catalog\"\n",
    "    os.environ['DATASET_TITLE']=\"Main Phenotips Dataset\"\n",
    "    os.environ['DATASET_VERSION']=\"1.2.3\"\n",
    "    os.environ['DATASET_PUBLISHERNAME']=\"Mr Catalog\"\n",
    "    os.environ['DATASET_THEMES_LIST']=\"http://theme.org/theme1;http://theme.org/theme2\"\n",
    "    os.environ['DATASET_KEYWORDS']=\"GreatCatalog;NiceCatalog\"\n",
    "    os.environ['DISTRIBUTION_TITLE']=\"Main Phenotips Distribution\"\n",
    "    os.environ['DISTRIBUTION_VERSION']=\"1.2.3\"\n",
    "    os.environ['DISTRIBUTION_PUBLISHERNAME']=\"Mr Catalog\"\n",
    "    os.environ['DISTRIBUTION_MEDIATYPE']=\"text/html\"\n",
    "    os.environ['DISTRIBUTION_ACCESSURL']=\"http://access.org\"\n",
    "\n"
   ]
  },
  {
   "cell_type": "code",
   "execution_count": 6,
   "id": "7a729970-db22-4f11-8bb6-04c15b0d244d",
   "metadata": {},
   "outputs": [],
   "source": [
    "#key = 'home'\n",
    "#value = os.getenv(key, \"value does not exist\")\n",
    "\n",
    "fdp_BASEURL=os.getenv(\"FDP_BASEURL\",'http://fdp-client:80')\n",
    "fdp_PUBLICURL=os.getenv(\"FDP_PUBLICURL\")\n",
    "\n",
    "if fdp_BASEURL is None:\n",
    "    logging.error(\"ENV:FDP_BASEURL must be set\")\n",
    "    raise Exception(\"ENV:FDP_BASEURL must be set\")\n",
    "    \n",
    "if fdp_PUBLICURL is None:\n",
    "    fdp_PUBLICURL = fdp_BASEURL\n",
    "\n",
    "\n",
    "#phenotips_homepage=os.getenv(\"PHENOTIPSURL\")\n",
    "#phenotips_language=os.getenv(\"LANGUAGE\",'http://id.loc.gov/vocabulary/iso639-1/en')\n",
    "#phenotips_publishername=os.getenv(\"PUBLISHERNAME\")\n",
    "#phenotips_catversion=os.getenv(\"CATALOGVERSION\")\n",
    "#phenotips_publishername=os.getenv(\"CATALOGTITLE\")\n"
   ]
  },
  {
   "cell_type": "markdown",
   "id": "39ea948d-3229-4be0-8afc-2ffb4e807c85",
   "metadata": {},
   "source": [
    "### Get Catalog Metadata"
   ]
  },
  {
   "cell_type": "code",
   "execution_count": 7,
   "id": "ed35316d-2241-4fbb-9704-1b270eabad4b",
   "metadata": {},
   "outputs": [],
   "source": [
    "fdp_catalog_data={'DESCRIPTION':None,\n",
    "                 'title':None,\n",
    "                 'version':None,\n",
    "#                 'ispartof':None,\n",
    "                 'publishername':None,\n",
    "                 'PUBLISHEREMAIL':None,\n",
    "                 'PUBLISHERUID':None,\n",
    "                 'LANGUAGE':None,\n",
    "                 'HOMEPAGE':None}\n",
    "\n",
    "for key, value in fdp_catalog_data.items():\n",
    "    fdp_catalog_data[key]=os.getenv(f\"CATALOG_{key.upper()}\")\n",
    "\n",
    "fdp_catalog_data['ispartof'] = fdp_PUBLICURL\n",
    "\n",
    "#keys_to_del=[]\n",
    "fdp_catalog_data_filled = {}\n",
    "for key, value in fdp_catalog_data.items():\n",
    "    if key.islower() and value is None:\n",
    "        logging.error(f\"ENV:CATALOG_{key.upper()} must be set\")\n",
    "        raise Exception(f\"ENV:CATALOG_{key.upper()} must be set\")\n",
    "    if value is not None:\n",
    "        fdp_catalog_data_filled[key]=value"
   ]
  },
  {
   "cell_type": "code",
   "execution_count": 8,
   "id": "024164cc-23b0-4de4-ba9b-a87edf38b5e6",
   "metadata": {},
   "outputs": [
    {
     "name": "stdout",
     "output_type": "stream",
     "text": [
      "{'DESCRIPTION': 'Main Phenotips Catalog', 'title': 'Main Phenotips Catalog', 'version': '1.0', 'publishername': 'BIBBOX', 'PUBLISHEREMAIL': 'admin@bibbox.org', 'PUBLISHERUID': 'https://github.com/bibbox', 'LANGUAGE': 'http://id.loc.gov/vocabulary/iso639-1/en', 'HOMEPAGE': 'http://localhost:8010', 'ispartof': 'http://localhost:8088'}\n"
     ]
    }
   ],
   "source": [
    "print(fdp_catalog_data_filled)"
   ]
  },
  {
   "cell_type": "markdown",
   "id": "8dc6103c-68a6-411b-89f2-ad53e8e54b4e",
   "metadata": {},
   "source": [
    "### Get Dataset Metadata"
   ]
  },
  {
   "cell_type": "code",
   "execution_count": 9,
   "id": "fa3d8783-1227-49e1-a000-49bdd32f892d",
   "metadata": {},
   "outputs": [],
   "source": [
    "fdp_dataset_data={'DESCRIPTION':None,\n",
    "                  'title':None,\n",
    "                  'version':None,\n",
    "#                  'ispartof':None,\n",
    "                  'publishername':None,                  \n",
    "                  'PUBLISHEREMAIL':None,\n",
    "                  'PUBLISHERUID':None,\n",
    "                  'themes_list':None,\n",
    "                  'LANGUAGE':None,\n",
    "                  'KEYWORDS':None,\n",
    "                  'ISSUED':None,\n",
    "                  'LICENSE':None,\n",
    "                  'MODIFIED':None,\n",
    "                  'RIGHTS':None,\n",
    "                  'CONTACTPOINT':None,\n",
    "                  'LANDINGPAGE':None\n",
    "                 }\n",
    "\n",
    "for key, value in fdp_dataset_data.items():\n",
    "    if key == 'themes_list' or key == 'KEYWORDS':\n",
    "        env_string= os.getenv(f\"DATASET_{key.upper()}\")\n",
    "        if env_string is not None:\n",
    "            fdp_dataset_data[key]=env_string.split(\";\")\n",
    "            continue\n",
    "    if key == 'ISSUED':\n",
    "        env_string= os.getenv(f\"DATASET_{key.upper()}\")\n",
    "        if env_string is None or env_string==\"now\":\n",
    "            fdp_dataset_data[key]=datetime.datetime.now()\n",
    "            continue            \n",
    "    fdp_dataset_data[key]=os.getenv(f\"DATASET_{key.upper()}\")\n",
    "\n",
    "#fdp_dataset_data['ispartof'] = fdp_PUBLICURL\n",
    "\n",
    "#keys_to_del=[]\n",
    "fdp_dataset_data_filled = {}\n",
    "for key, value in fdp_dataset_data.items():\n",
    "    if key.islower() and value is None:\n",
    "        logging.error(f\"ENV:DATASET_{key.upper()} must be set\")\n",
    "        raise Exception(f\"ENV:DATASET_{key.upper()} must be set\")\n",
    "    if value is not None:\n",
    "        fdp_dataset_data_filled[key]=value"
   ]
  },
  {
   "cell_type": "code",
   "execution_count": 10,
   "id": "39de64e1-f705-4b82-a893-a34e4d680dc1",
   "metadata": {},
   "outputs": [
    {
     "name": "stdout",
     "output_type": "stream",
     "text": [
      "{'DESCRIPTION': 'Main Phenotips DATASET', 'title': 'Main Phenotips DATASET', 'version': '1.0', 'publishername': 'BIBBOX', 'PUBLISHEREMAIL': 'admin@bibbox.org', 'PUBLISHERUID': 'https://github.com/bibbox', 'themes_list': ['http://theme.org/theme1', 'http://theme.org/theme2'], 'LANGUAGE': 'http://id.loc.gov/vocabulary/iso639-1/en', 'KEYWORDS': ['phenotips', 'phenotypes', 'family'], 'ISSUED': datetime.datetime(2022, 5, 9, 13, 24, 38, 887121), 'LICENSE': 'http://license.org', 'RIGHTS': 'http://rights.org', 'CONTACTPOINT': 'admin@bibbox.org', 'LANDINGPAGE': 'http://localhost:8010'}\n"
     ]
    }
   ],
   "source": [
    "print(fdp_dataset_data_filled)"
   ]
  },
  {
   "cell_type": "markdown",
   "id": "04a34c43-4e5d-42ad-8704-15e279840c9a",
   "metadata": {},
   "source": [
    "### Get Distribution Metadata"
   ]
  },
  {
   "cell_type": "code",
   "execution_count": 11,
   "id": "076e7958-dae9-4f1c-b81a-0414c52307d7",
   "metadata": {},
   "outputs": [],
   "source": [
    "fdp_distribution_data={'title':None,\n",
    "                       'version':None,\n",
    "#                      'ispartof':None,\n",
    "                       'publishername':None,          \n",
    "                       'PUBLISHEREMAIL':None,\n",
    "                       'PUBLISHERUID':None,\n",
    "                       'mediatype':None,\n",
    "                       'LANGUAGE':None,\n",
    "                       'ISSUED':None,\n",
    "                       'LICENSE':None,\n",
    "                       'MODIFIED':None,\n",
    "                       'RIGHTS':None,\n",
    "                       'ACCESSURL':None,\n",
    "                       'DOWNLOADURL':None,\n",
    "                       'FORMAT':None,\n",
    "                       'BYTESIZE':None\n",
    "                      }\n",
    "\n",
    "for key, value in fdp_distribution_data.items():\n",
    "    if key == 'ISSUED':\n",
    "        env_string= os.getenv(f\"DISTRIBUTION_{key.upper()}\")\n",
    "        if env_string is None or env_string==\"now\":\n",
    "            fdp_distribution_data[key]=datetime.datetime.now()\n",
    "            continue            \n",
    "    fdp_distribution_data[key]=os.getenv(f\"DISTRIBUTION_{key.upper()}\")\n",
    "\n",
    "#fdp_dataset_data['ispartof'] = fdp_PUBLICURL\n",
    "\n",
    "#keys_to_del=[]\n",
    "fdp_distribution_data_filled = {}\n",
    "for key, value in fdp_distribution_data.items():\n",
    "    if key.islower() and value is None:\n",
    "        logging.error(f\"ENV:DISTRIBUTION_{key.upper()} must be set\")\n",
    "        raise Exception(f\"ENV:DISTRIBUTION_{key.upper()} must be set\")\n",
    "    if value is not None:\n",
    "        fdp_distribution_data_filled[key]=value"
   ]
  },
  {
   "cell_type": "code",
   "execution_count": 12,
   "id": "cc760758-2f5c-4f68-bcd1-d6b715711e0a",
   "metadata": {},
   "outputs": [
    {
     "name": "stdout",
     "output_type": "stream",
     "text": [
      "{'title': 'Main Phenotips DISTRIBUTION', 'version': '1.0', 'publishername': 'BIBBOX', 'PUBLISHEREMAIL': 'admin@bibbox.org', 'PUBLISHERUID': 'https://github.com/bibbox', 'mediatype': 'text/html', 'LANGUAGE': 'http://id.loc.gov/vocabulary/iso639-1/en', 'ISSUED': datetime.datetime(2022, 5, 9, 13, 24, 38, 896246), 'LICENSE': 'http://license.org', 'RIGHTS': 'http://rights.org', 'ACCESSURL': 'http://localhost:8010'}\n"
     ]
    }
   ],
   "source": [
    "print(fdp_distribution_data_filled)"
   ]
  },
  {
   "cell_type": "markdown",
   "id": "ec1ab27c-ac3e-4b70-b0cb-7aa3d7bc4752",
   "metadata": {},
   "source": [
    "## Login and fill the FDP\n",
    "`TODO` Set Login"
   ]
  },
  {
   "cell_type": "code",
   "execution_count": 13,
   "id": "82500cb4-79d4-4d47-acfe-e09136e511ca",
   "metadata": {},
   "outputs": [],
   "source": [
    "# Login in FDP\n",
    "fdpclient=FDPClient(fdp_BASEURL,\"albert.einstein@example.com\",\"password\",publicurl=fdp_PUBLICURL,\n",
    "                    catalog_template='./templates/catalog_template.ttl',\n",
    "                    dataset_template='./templates/dataset_template.ttl',\n",
    "                    distribution_template='./templates/distribution_template.ttl')"
   ]
  },
  {
   "cell_type": "markdown",
   "id": "89131e8b-121e-41d8-a754-178d3e2255b9",
   "metadata": {},
   "source": [
    "### Create Catalog"
   ]
  },
  {
   "cell_type": "code",
   "execution_count": 14,
   "id": "553e06a8-fec7-4893-931d-50f2a44c128a",
   "metadata": {},
   "outputs": [],
   "source": [
    "phenotips_catalog=fdpclient.createCatalogRDF(**fdp_catalog_data_filled)\n",
    "cat_id=fdpclient.create(type='catalog',data=phenotips_catalog)\n",
    "logging.info(f\"Created Catalog with id: {cat_id}\")"
   ]
  },
  {
   "cell_type": "markdown",
   "id": "53575451-0fcf-4f15-b6e2-0fde4e782e4e",
   "metadata": {},
   "source": [
    "### Create dataset"
   ]
  },
  {
   "cell_type": "code",
   "execution_count": 15,
   "id": "a70ce5c4-bf38-4fd9-9a6f-aa5c6dd07068",
   "metadata": {},
   "outputs": [],
   "source": [
    "fdp_dataset_data_filled['catalogid']=cat_id\n",
    "phenotips_dataset=fdpclient.createDatasetRDF(**fdp_dataset_data_filled)\n",
    "dat_id=fdpclient.create(type='dataset',data=phenotips_dataset)\n",
    "logging.info(f\"Created Dataset with id: {dat_id}\")"
   ]
  },
  {
   "cell_type": "markdown",
   "id": "223181c9-7099-4225-9f49-899afefd547c",
   "metadata": {},
   "source": [
    "### Create distribution"
   ]
  },
  {
   "cell_type": "code",
   "execution_count": 16,
   "id": "be36ab5f-3cc2-4fac-80db-c3d64e13d449",
   "metadata": {},
   "outputs": [],
   "source": [
    "fdp_distribution_data_filled['datasetid']=dat_id\n",
    "phenotips_distribution=fdpclient.createDistributionRDF(**fdp_distribution_data_filled)\n",
    "dis_id=fdpclient.create(type='distribution',data=phenotips_distribution)\n",
    "logging.info(f\"Created Distribution with id: {dis_id}\")"
   ]
  },
  {
   "cell_type": "markdown",
   "id": "a2823648-94f5-448b-9bf3-2451a62bf4a7",
   "metadata": {},
   "source": [
    "## Lets publish everyting"
   ]
  },
  {
   "cell_type": "code",
   "execution_count": 17,
   "id": "cc51e579-8841-47a3-a7e8-2be65cfb1e09",
   "metadata": {},
   "outputs": [],
   "source": [
    "sate_published=json.dumps({\"current\":\"PUBLISHED\"})\n",
    "\n",
    "fdpclient.update(type='catalog',id=cat_id,subtype='meta/state',data=sate_published,format=\"json-ld\")\n",
    "fdpclient.update(type='dataset',id=dat_id,subtype='meta/state',data=sate_published,format=\"json-ld\")\n",
    "fdpclient.update(type='distribution',id=dis_id,subtype='meta/state',data=sate_published,format=\"json-ld\")"
   ]
  }
 ],
 "metadata": {
  "kernelspec": {
   "display_name": "Python 3 (ipykernel)",
   "language": "python",
   "name": "python3"
  },
  "language_info": {
   "codemirror_mode": {
    "name": "ipython",
    "version": 3
   },
   "file_extension": ".py",
   "mimetype": "text/x-python",
   "name": "python",
   "nbconvert_exporter": "python",
   "pygments_lexer": "ipython3",
   "version": "3.9.10"
  }
 },
 "nbformat": 4,
 "nbformat_minor": 5
}
